{
 "cells": [
  {
   "cell_type": "markdown",
   "metadata": {},
   "source": [
    "# Electrical Annual Production - Data Exploration "
   ]
  },
  {
   "cell_type": "markdown",
   "metadata": {},
   "source": [
    "In this project, we will be using on of **[ENEDIS](https://fr.wikipedia.org/wiki/Enedis)** open dataset, available on its [Open Data](https://data.enedis.fr/pages/accueil/?id=init) platform. \n",
    "The chosen dataset is the one regarding [annual electrical production by departments](https://data.enedis.fr/explore/dataset/production-electrique-par-filiere-a-la-maille-departement/information/?sort=annee), the dataset has already been cleaned and so our main objective will be to try to see if we could perform some more cleaning to better fit the data to our secondary objective : performing a overall exploration of the dataset.  \n",
    "\n",
    "One remark should be made before starting. What is meant by \"production\" here refers to the electricity produced by users of the infrastructure (with *hydrolic power*, *wind turbines*, *solar panels*, ...), it is not the electricity produced by electricity providers (see [here](https://www.enedis.fr/produire-de-lelectricite-en-bt-36-kva-hta#onglet-preparation-du-projet) for more on the subject)."
   ]
  },
  {
   "cell_type": "code",
   "execution_count": 128,
   "metadata": {},
   "outputs": [],
   "source": [
    "#Import necessary libraries\n",
    "import pandas as pd\n",
    "import numpy as np\n",
    "import matplotlib as mpl\n",
    "import matplotlib.pyplot as plt\n",
    "from matplotlib.colors import ListedColormap, LinearSegmentedColormap, Normalize\n",
    "\n",
    "%matplotlib inline"
   ]
  },
  {
   "cell_type": "markdown",
   "metadata": {},
   "source": [
    "The dataset could be downloaded in diverse data formats, let's check CSV and JSON."
   ]
  },
  {
   "cell_type": "markdown",
   "metadata": {},
   "source": [
    "## Choose Data Format"
   ]
  },
  {
   "cell_type": "markdown",
   "metadata": {},
   "source": [
    "### CSV Import"
   ]
  },
  {
   "cell_type": "code",
   "execution_count": 2,
   "metadata": {},
   "outputs": [
    {
     "data": {
      "text/html": [
       "<div>\n",
       "<style scoped>\n",
       "    .dataframe tbody tr th:only-of-type {\n",
       "        vertical-align: middle;\n",
       "    }\n",
       "\n",
       "    .dataframe tbody tr th {\n",
       "        vertical-align: top;\n",
       "    }\n",
       "\n",
       "    .dataframe thead th {\n",
       "        text-align: right;\n",
       "    }\n",
       "</style>\n",
       "<table border=\"1\" class=\"dataframe\">\n",
       "  <thead>\n",
       "    <tr style=\"text-align: right;\">\n",
       "      <th></th>\n",
       "      <th>Année</th>\n",
       "      <th>Nom département</th>\n",
       "      <th>Code département</th>\n",
       "      <th>Nom région</th>\n",
       "      <th>Code région</th>\n",
       "      <th>Domaine de tension</th>\n",
       "      <th>Nb sites Photovoltaïque Enedis</th>\n",
       "      <th>Energie produite annuelle Photovoltaïque Enedis (MWh)</th>\n",
       "      <th>Nb sites Eolien Enedis</th>\n",
       "      <th>Energie produite annuelle Eolien Enedis (MWh)</th>\n",
       "      <th>Nb sites Hydraulique Enedis</th>\n",
       "      <th>Energie produite annuelle Hydraulique Enedis (MWh)</th>\n",
       "      <th>Nb sites Bio Energie Enedis</th>\n",
       "      <th>Energie produite annuelle Bio Energie Enedis (MWh)</th>\n",
       "      <th>Nb sites Cogénération Enedis</th>\n",
       "      <th>Energie produite annuelle Cogénération Enedis (MWh)</th>\n",
       "      <th>Nb sites Autres filières Enedis</th>\n",
       "      <th>Energie produite annuelle Autres filières Enedis (MWh)</th>\n",
       "      <th>geom</th>\n",
       "      <th>geo_point_2d</th>\n",
       "    </tr>\n",
       "  </thead>\n",
       "  <tbody>\n",
       "    <tr>\n",
       "      <th>0</th>\n",
       "      <td>2019</td>\n",
       "      <td>Lot</td>\n",
       "      <td>46</td>\n",
       "      <td>Occitanie</td>\n",
       "      <td>76</td>\n",
       "      <td>HTA</td>\n",
       "      <td>5.0</td>\n",
       "      <td>35095.257167</td>\n",
       "      <td>0.0</td>\n",
       "      <td>0.000</td>\n",
       "      <td>27.0</td>\n",
       "      <td>104494.475222</td>\n",
       "      <td>1.0</td>\n",
       "      <td>9507.769833</td>\n",
       "      <td>0.0</td>\n",
       "      <td>0.000</td>\n",
       "      <td>0.0</td>\n",
       "      <td>0.000000</td>\n",
       "      <td>{\"type\": \"Polygon\", \"coordinates\": [[[1.364096...</td>\n",
       "      <td>44.6246196077,1.60550977706</td>\n",
       "    </tr>\n",
       "    <tr>\n",
       "      <th>1</th>\n",
       "      <td>2019</td>\n",
       "      <td>Ille-et-Vilaine</td>\n",
       "      <td>35</td>\n",
       "      <td>Bretagne</td>\n",
       "      <td>53</td>\n",
       "      <td>HTA</td>\n",
       "      <td>10.0</td>\n",
       "      <td>8546.766833</td>\n",
       "      <td>18.0</td>\n",
       "      <td>278820.878</td>\n",
       "      <td>1.0</td>\n",
       "      <td>265.795333</td>\n",
       "      <td>13.0</td>\n",
       "      <td>113544.304621</td>\n",
       "      <td>15.0</td>\n",
       "      <td>168474.081</td>\n",
       "      <td>4.0</td>\n",
       "      <td>95.136667</td>\n",
       "      <td>{\"type\": \"MultiPolygon\", \"coordinates\": [[[[-1...</td>\n",
       "      <td>48.1551302397,-1.63817509208</td>\n",
       "    </tr>\n",
       "  </tbody>\n",
       "</table>\n",
       "</div>"
      ],
      "text/plain": [
       "   Année  Nom département  Code département Nom région  Code région  \\\n",
       "0   2019              Lot                46  Occitanie           76   \n",
       "1   2019  Ille-et-Vilaine                35   Bretagne           53   \n",
       "\n",
       "  Domaine de tension  Nb sites Photovoltaïque Enedis  \\\n",
       "0                HTA                             5.0   \n",
       "1                HTA                            10.0   \n",
       "\n",
       "   Energie produite annuelle Photovoltaïque Enedis (MWh)  \\\n",
       "0                                       35095.257167       \n",
       "1                                        8546.766833       \n",
       "\n",
       "   Nb sites Eolien Enedis  Energie produite annuelle Eolien Enedis (MWh)  \\\n",
       "0                     0.0                                          0.000   \n",
       "1                    18.0                                     278820.878   \n",
       "\n",
       "   Nb sites Hydraulique Enedis  \\\n",
       "0                         27.0   \n",
       "1                          1.0   \n",
       "\n",
       "   Energie produite annuelle Hydraulique Enedis (MWh)  \\\n",
       "0                                      104494.475222    \n",
       "1                                         265.795333    \n",
       "\n",
       "   Nb sites Bio Energie Enedis  \\\n",
       "0                          1.0   \n",
       "1                         13.0   \n",
       "\n",
       "   Energie produite annuelle Bio Energie Enedis (MWh)  \\\n",
       "0                                        9507.769833    \n",
       "1                                      113544.304621    \n",
       "\n",
       "   Nb sites Cogénération Enedis  \\\n",
       "0                           0.0   \n",
       "1                          15.0   \n",
       "\n",
       "   Energie produite annuelle Cogénération Enedis (MWh)  \\\n",
       "0                                              0.000     \n",
       "1                                         168474.081     \n",
       "\n",
       "   Nb sites Autres filières Enedis  \\\n",
       "0                              0.0   \n",
       "1                              4.0   \n",
       "\n",
       "   Energie produite annuelle Autres filières Enedis (MWh)  \\\n",
       "0                                           0.000000        \n",
       "1                                          95.136667        \n",
       "\n",
       "                                                geom  \\\n",
       "0  {\"type\": \"Polygon\", \"coordinates\": [[[1.364096...   \n",
       "1  {\"type\": \"MultiPolygon\", \"coordinates\": [[[[-1...   \n",
       "\n",
       "                   geo_point_2d  \n",
       "0   44.6246196077,1.60550977706  \n",
       "1  48.1551302397,-1.63817509208  "
      ]
     },
     "execution_count": 2,
     "metadata": {},
     "output_type": "execute_result"
    }
   ],
   "source": [
    "data_csv = pd.read_csv('production-electrique-par-filiere-a-la-maille-departement.csv', delimiter=\";\")\n",
    "data_csv.head(2)"
   ]
  },
  {
   "cell_type": "markdown",
   "metadata": {},
   "source": [
    "The dataset seems ready to use even if some additional cleaning could be applied in order to clarify some of the data, column names for example or data types (for instance in `Domaine de tension` column there is a mix of string and numeric values).  \n",
    "For this project let's check the **JSON** data format."
   ]
  },
  {
   "cell_type": "markdown",
   "metadata": {},
   "source": [
    "### JSON Import"
   ]
  },
  {
   "cell_type": "code",
   "execution_count": 3,
   "metadata": {},
   "outputs": [
    {
     "data": {
      "text/html": [
       "<div>\n",
       "<style scoped>\n",
       "    .dataframe tbody tr th:only-of-type {\n",
       "        vertical-align: middle;\n",
       "    }\n",
       "\n",
       "    .dataframe tbody tr th {\n",
       "        vertical-align: top;\n",
       "    }\n",
       "\n",
       "    .dataframe thead th {\n",
       "        text-align: right;\n",
       "    }\n",
       "</style>\n",
       "<table border=\"1\" class=\"dataframe\">\n",
       "  <thead>\n",
       "    <tr style=\"text-align: right;\">\n",
       "      <th></th>\n",
       "      <th>datasetid</th>\n",
       "      <th>recordid</th>\n",
       "      <th>fields</th>\n",
       "      <th>geometry</th>\n",
       "      <th>record_timestamp</th>\n",
       "    </tr>\n",
       "  </thead>\n",
       "  <tbody>\n",
       "    <tr>\n",
       "      <th>0</th>\n",
       "      <td>production-electrique-par-filiere-a-la-maille-...</td>\n",
       "      <td>3a7fb79f65a227db91b6105399213aec1cc46ff9</td>\n",
       "      <td>{'energie_produite_annuelle_bio_energie_enedis...</td>\n",
       "      <td>{'type': 'Point', 'coordinates': [1.6055097770...</td>\n",
       "      <td>2020-10-07T15:21:19.899+02:00</td>\n",
       "    </tr>\n",
       "    <tr>\n",
       "      <th>1</th>\n",
       "      <td>production-electrique-par-filiere-a-la-maille-...</td>\n",
       "      <td>2b74b2abc9e6ac3d89eef09222809000a425db20</td>\n",
       "      <td>{'energie_produite_annuelle_bio_energie_enedis...</td>\n",
       "      <td>{'type': 'Point', 'coordinates': [-1.638175092...</td>\n",
       "      <td>2020-10-07T15:21:19.899+02:00</td>\n",
       "    </tr>\n",
       "  </tbody>\n",
       "</table>\n",
       "</div>"
      ],
      "text/plain": [
       "                                           datasetid  \\\n",
       "0  production-electrique-par-filiere-a-la-maille-...   \n",
       "1  production-electrique-par-filiere-a-la-maille-...   \n",
       "\n",
       "                                   recordid  \\\n",
       "0  3a7fb79f65a227db91b6105399213aec1cc46ff9   \n",
       "1  2b74b2abc9e6ac3d89eef09222809000a425db20   \n",
       "\n",
       "                                              fields  \\\n",
       "0  {'energie_produite_annuelle_bio_energie_enedis...   \n",
       "1  {'energie_produite_annuelle_bio_energie_enedis...   \n",
       "\n",
       "                                            geometry  \\\n",
       "0  {'type': 'Point', 'coordinates': [1.6055097770...   \n",
       "1  {'type': 'Point', 'coordinates': [-1.638175092...   \n",
       "\n",
       "                record_timestamp  \n",
       "0  2020-10-07T15:21:19.899+02:00  \n",
       "1  2020-10-07T15:21:19.899+02:00  "
      ]
     },
     "execution_count": 3,
     "metadata": {},
     "output_type": "execute_result"
    }
   ],
   "source": [
    "data_json = pd.read_json('production-electrique-par-filiere-a-la-maille-departement.json')\n",
    "data_json.head(2)"
   ]
  },
  {
   "cell_type": "markdown",
   "metadata": {},
   "source": [
    "With **JSON** some pre-processing is needed before being able to work with the data. Let's explore the columns"
   ]
  },
  {
   "cell_type": "code",
   "execution_count": 4,
   "metadata": {},
   "outputs": [
    {
     "data": {
      "text/html": [
       "<div>\n",
       "<style scoped>\n",
       "    .dataframe tbody tr th:only-of-type {\n",
       "        vertical-align: middle;\n",
       "    }\n",
       "\n",
       "    .dataframe tbody tr th {\n",
       "        vertical-align: top;\n",
       "    }\n",
       "\n",
       "    .dataframe thead th {\n",
       "        text-align: right;\n",
       "    }\n",
       "</style>\n",
       "<table border=\"1\" class=\"dataframe\">\n",
       "  <thead>\n",
       "    <tr style=\"text-align: right;\">\n",
       "      <th></th>\n",
       "      <th>datasetid</th>\n",
       "      <th>recordid</th>\n",
       "      <th>fields</th>\n",
       "      <th>geometry</th>\n",
       "      <th>record_timestamp</th>\n",
       "    </tr>\n",
       "  </thead>\n",
       "  <tbody>\n",
       "    <tr>\n",
       "      <th>count</th>\n",
       "      <td>2538</td>\n",
       "      <td>2538</td>\n",
       "      <td>2538</td>\n",
       "      <td>282</td>\n",
       "      <td>2538</td>\n",
       "    </tr>\n",
       "    <tr>\n",
       "      <th>unique</th>\n",
       "      <td>1</td>\n",
       "      <td>2538</td>\n",
       "      <td>2538</td>\n",
       "      <td>95</td>\n",
       "      <td>5</td>\n",
       "    </tr>\n",
       "    <tr>\n",
       "      <th>top</th>\n",
       "      <td>production-electrique-par-filiere-a-la-maille-...</td>\n",
       "      <td>2a8f9361b1ec09fef5d1249918838f02e28e060c</td>\n",
       "      <td>{'energie_produite_annuelle_bio_energie_enedis...</td>\n",
       "      <td>{'type': 'Point', 'coordinates': [1.6055097770...</td>\n",
       "      <td>2019-04-01T11:26:10.217+02:00</td>\n",
       "    </tr>\n",
       "    <tr>\n",
       "      <th>freq</th>\n",
       "      <td>2538</td>\n",
       "      <td>1</td>\n",
       "      <td>1</td>\n",
       "      <td>3</td>\n",
       "      <td>1410</td>\n",
       "    </tr>\n",
       "  </tbody>\n",
       "</table>\n",
       "</div>"
      ],
      "text/plain": [
       "                                                datasetid  \\\n",
       "count                                                2538   \n",
       "unique                                                  1   \n",
       "top     production-electrique-par-filiere-a-la-maille-...   \n",
       "freq                                                 2538   \n",
       "\n",
       "                                        recordid  \\\n",
       "count                                       2538   \n",
       "unique                                      2538   \n",
       "top     2a8f9361b1ec09fef5d1249918838f02e28e060c   \n",
       "freq                                           1   \n",
       "\n",
       "                                                   fields  \\\n",
       "count                                                2538   \n",
       "unique                                               2538   \n",
       "top     {'energie_produite_annuelle_bio_energie_enedis...   \n",
       "freq                                                    1   \n",
       "\n",
       "                                                 geometry  \\\n",
       "count                                                 282   \n",
       "unique                                                 95   \n",
       "top     {'type': 'Point', 'coordinates': [1.6055097770...   \n",
       "freq                                                    3   \n",
       "\n",
       "                     record_timestamp  \n",
       "count                            2538  \n",
       "unique                              5  \n",
       "top     2019-04-01T11:26:10.217+02:00  \n",
       "freq                             1410  "
      ]
     },
     "execution_count": 4,
     "metadata": {},
     "output_type": "execute_result"
    }
   ],
   "source": [
    "data_json.describe(include='all')"
   ]
  },
  {
   "cell_type": "markdown",
   "metadata": {},
   "source": [
    "As could have been expected with a *JSON file* we have 2 columns that does not provide any useful information for us :  \n",
    "* `datasetid` being the id of the dataset, a unique value found on every data-point \n",
    "* `recordid`, the unique id of the data-point, which we will replace by the dataframe index id\n",
    "\n",
    "The `fields` column seems to be the one of interest, the one containing every `key:value` pairs holding the data. "
   ]
  },
  {
   "cell_type": "code",
   "execution_count": 5,
   "metadata": {},
   "outputs": [
    {
     "data": {
      "text/html": [
       "<div>\n",
       "<style scoped>\n",
       "    .dataframe tbody tr th:only-of-type {\n",
       "        vertical-align: middle;\n",
       "    }\n",
       "\n",
       "    .dataframe tbody tr th {\n",
       "        vertical-align: top;\n",
       "    }\n",
       "\n",
       "    .dataframe thead th {\n",
       "        text-align: right;\n",
       "    }\n",
       "</style>\n",
       "<table border=\"1\" class=\"dataframe\">\n",
       "  <thead>\n",
       "    <tr style=\"text-align: right;\">\n",
       "      <th></th>\n",
       "      <th>energie_produite_annuelle_bio_energie_enedis_mwh</th>\n",
       "      <th>nb_sites_eolien_enedis</th>\n",
       "      <th>nom_departement</th>\n",
       "      <th>nb_sites_photovoltaique_enedis</th>\n",
       "      <th>energie_produite_annuelle_hydraulique_enedis_mwh</th>\n",
       "      <th>domaine_de_tension</th>\n",
       "      <th>nb_sites_hydraulique_enedis</th>\n",
       "      <th>nb_sites_bio_energie_enedis</th>\n",
       "      <th>geo_point_2d</th>\n",
       "      <th>nb_sites_autres_filieres_enedis</th>\n",
       "      <th>energie_produite_annuelle_eolien_enedis_mwh</th>\n",
       "      <th>energie_produite_annuelle_cogeneration_enedis_mwh</th>\n",
       "      <th>geom</th>\n",
       "      <th>nb_sites_cogeneration_enedis</th>\n",
       "      <th>code_region</th>\n",
       "      <th>code_departement</th>\n",
       "      <th>annee</th>\n",
       "      <th>energie_produite_annuelle_photovoltaique_enedis_mwh</th>\n",
       "      <th>energie_produite_annuelle_autres_filieres_enedis_mwh</th>\n",
       "      <th>nom_region</th>\n",
       "    </tr>\n",
       "  </thead>\n",
       "  <tbody>\n",
       "    <tr>\n",
       "      <th>0</th>\n",
       "      <td>9507.769833</td>\n",
       "      <td>0.0</td>\n",
       "      <td>Lot</td>\n",
       "      <td>5.0</td>\n",
       "      <td>104494.475222</td>\n",
       "      <td>HTA</td>\n",
       "      <td>27.0</td>\n",
       "      <td>1.0</td>\n",
       "      <td>[44.6246196077, 1.60550977706]</td>\n",
       "      <td>0.0</td>\n",
       "      <td>0.000</td>\n",
       "      <td>0.000</td>\n",
       "      <td>{'type': 'Polygon', 'coordinates': [[[1.364096...</td>\n",
       "      <td>0.0</td>\n",
       "      <td>76</td>\n",
       "      <td>46</td>\n",
       "      <td>2019</td>\n",
       "      <td>35095.257167</td>\n",
       "      <td>0.000000</td>\n",
       "      <td>Occitanie</td>\n",
       "    </tr>\n",
       "    <tr>\n",
       "      <th>1</th>\n",
       "      <td>113544.304621</td>\n",
       "      <td>18.0</td>\n",
       "      <td>Ille-et-Vilaine</td>\n",
       "      <td>10.0</td>\n",
       "      <td>265.795333</td>\n",
       "      <td>HTA</td>\n",
       "      <td>1.0</td>\n",
       "      <td>13.0</td>\n",
       "      <td>[48.1551302397, -1.63817509208]</td>\n",
       "      <td>4.0</td>\n",
       "      <td>278820.878</td>\n",
       "      <td>168474.081</td>\n",
       "      <td>{'type': 'MultiPolygon', 'coordinates': [[[[-1...</td>\n",
       "      <td>15.0</td>\n",
       "      <td>53</td>\n",
       "      <td>35</td>\n",
       "      <td>2019</td>\n",
       "      <td>8546.766833</td>\n",
       "      <td>95.136667</td>\n",
       "      <td>Bretagne</td>\n",
       "    </tr>\n",
       "  </tbody>\n",
       "</table>\n",
       "</div>"
      ],
      "text/plain": [
       "   energie_produite_annuelle_bio_energie_enedis_mwh  nb_sites_eolien_enedis  \\\n",
       "0                                       9507.769833                     0.0   \n",
       "1                                     113544.304621                    18.0   \n",
       "\n",
       "   nom_departement  nb_sites_photovoltaique_enedis  \\\n",
       "0              Lot                             5.0   \n",
       "1  Ille-et-Vilaine                            10.0   \n",
       "\n",
       "   energie_produite_annuelle_hydraulique_enedis_mwh domaine_de_tension  \\\n",
       "0                                     104494.475222                HTA   \n",
       "1                                        265.795333                HTA   \n",
       "\n",
       "   nb_sites_hydraulique_enedis  nb_sites_bio_energie_enedis  \\\n",
       "0                         27.0                          1.0   \n",
       "1                          1.0                         13.0   \n",
       "\n",
       "                      geo_point_2d  nb_sites_autres_filieres_enedis  \\\n",
       "0   [44.6246196077, 1.60550977706]                              0.0   \n",
       "1  [48.1551302397, -1.63817509208]                              4.0   \n",
       "\n",
       "   energie_produite_annuelle_eolien_enedis_mwh  \\\n",
       "0                                        0.000   \n",
       "1                                   278820.878   \n",
       "\n",
       "   energie_produite_annuelle_cogeneration_enedis_mwh  \\\n",
       "0                                              0.000   \n",
       "1                                         168474.081   \n",
       "\n",
       "                                                geom  \\\n",
       "0  {'type': 'Polygon', 'coordinates': [[[1.364096...   \n",
       "1  {'type': 'MultiPolygon', 'coordinates': [[[[-1...   \n",
       "\n",
       "   nb_sites_cogeneration_enedis code_region code_departement annee  \\\n",
       "0                           0.0          76               46  2019   \n",
       "1                          15.0          53               35  2019   \n",
       "\n",
       "   energie_produite_annuelle_photovoltaique_enedis_mwh  \\\n",
       "0                                       35095.257167     \n",
       "1                                        8546.766833     \n",
       "\n",
       "   energie_produite_annuelle_autres_filieres_enedis_mwh nom_region  \n",
       "0                                           0.000000     Occitanie  \n",
       "1                                          95.136667      Bretagne  "
      ]
     },
     "execution_count": 5,
     "metadata": {},
     "output_type": "execute_result"
    }
   ],
   "source": [
    "# converting json dataset from dictionary to dataframe\n",
    "elec_df = pd.DataFrame.from_dict(data_json['fields'].values.tolist())\n",
    "elec_df.head(2)"
   ]
  },
  {
   "cell_type": "markdown",
   "metadata": {},
   "source": [
    "Now that we have our columns, lets do some data cleaning"
   ]
  },
  {
   "cell_type": "markdown",
   "metadata": {},
   "source": [
    "## Data Cleaning"
   ]
  },
  {
   "cell_type": "code",
   "execution_count": 6,
   "metadata": {},
   "outputs": [
    {
     "name": "stdout",
     "output_type": "stream",
     "text": [
      "<class 'pandas.core.frame.DataFrame'>\n",
      "RangeIndex: 2538 entries, 0 to 2537\n",
      "Data columns (total 20 columns):\n",
      " #   Column                                                Non-Null Count  Dtype  \n",
      "---  ------                                                --------------  -----  \n",
      " 0   energie_produite_annuelle_bio_energie_enedis_mwh      2446 non-null   float64\n",
      " 1   nb_sites_eolien_enedis                                2048 non-null   float64\n",
      " 2   nom_departement                                       2538 non-null   object \n",
      " 3   nb_sites_photovoltaique_enedis                        2480 non-null   float64\n",
      " 4   energie_produite_annuelle_hydraulique_enedis_mwh      2056 non-null   float64\n",
      " 5   domaine_de_tension                                    2538 non-null   object \n",
      " 6   nb_sites_hydraulique_enedis                           2056 non-null   float64\n",
      " 7   nb_sites_bio_energie_enedis                           2446 non-null   float64\n",
      " 8   geo_point_2d                                          282 non-null    object \n",
      " 9   nb_sites_autres_filieres_enedis                       2526 non-null   float64\n",
      " 10  energie_produite_annuelle_eolien_enedis_mwh           2048 non-null   float64\n",
      " 11  energie_produite_annuelle_cogeneration_enedis_mwh     2467 non-null   float64\n",
      " 12  geom                                                  282 non-null    object \n",
      " 13  nb_sites_cogeneration_enedis                          2467 non-null   float64\n",
      " 14  code_region                                           2538 non-null   object \n",
      " 15  code_departement                                      2538 non-null   object \n",
      " 16  annee                                                 2538 non-null   object \n",
      " 17  energie_produite_annuelle_photovoltaique_enedis_mwh   2480 non-null   float64\n",
      " 18  energie_produite_annuelle_autres_filieres_enedis_mwh  2526 non-null   float64\n",
      " 19  nom_region                                            2538 non-null   object \n",
      "dtypes: float64(12), object(8)\n",
      "memory usage: 396.7+ KB\n"
     ]
    }
   ],
   "source": [
    "elec_df.info()"
   ]
  },
  {
   "cell_type": "markdown",
   "metadata": {},
   "source": [
    "Most of the columns are of *numeric types* and the rest are *string* **but** some of the `object` Dtype (string) should be numeric values to facilitate our future data exploration.   \n",
    "Moreover, it seems that some columns are have *missing values* (quick note : the **geocoordinates** columns will be identified as `NaN` as there still have **JSON formatted** values. As those columns are mostly of interest for departments plotting we will remove them of the dataframe."
   ]
  },
  {
   "cell_type": "markdown",
   "metadata": {},
   "source": [
    "### Drop columns and deal with Missing Values"
   ]
  },
  {
   "cell_type": "code",
   "execution_count": 7,
   "metadata": {},
   "outputs": [],
   "source": [
    "#Drop geocoord columns\n",
    "elec_df.drop(['geom', 'geo_point_2d', 'code_region'], axis=1, inplace=True)"
   ]
  },
  {
   "cell_type": "code",
   "execution_count": 8,
   "metadata": {},
   "outputs": [
    {
     "data": {
      "text/plain": [
       "nb_sites_eolien_enedis                                  490\n",
       "energie_produite_annuelle_eolien_enedis_mwh             490\n",
       "nb_sites_hydraulique_enedis                             482\n",
       "energie_produite_annuelle_hydraulique_enedis_mwh        482\n",
       "energie_produite_annuelle_bio_energie_enedis_mwh         92\n",
       "nb_sites_bio_energie_enedis                              92\n",
       "nb_sites_cogeneration_enedis                             71\n",
       "energie_produite_annuelle_cogeneration_enedis_mwh        71\n",
       "energie_produite_annuelle_photovoltaique_enedis_mwh      58\n",
       "nb_sites_photovoltaique_enedis                           58\n",
       "nb_sites_autres_filieres_enedis                          12\n",
       "energie_produite_annuelle_autres_filieres_enedis_mwh     12\n",
       "domaine_de_tension                                        0\n",
       "code_departement                                          0\n",
       "nom_departement                                           0\n",
       "annee                                                     0\n",
       "nom_region                                                0\n",
       "dtype: int64"
      ]
     },
     "execution_count": 8,
     "metadata": {},
     "output_type": "execute_result"
    }
   ],
   "source": [
    "#Explore Null values\n",
    "elec_df.isnull().sum().sort_values(ascending=False)"
   ]
  },
  {
   "cell_type": "markdown",
   "metadata": {},
   "source": [
    "From what is easily observable with the `NaN` values, if a department does not produce any electricity from **wind \n",
    "turbines** or **hydrolic power** the quantity of produced energy is likely to be 0 as well as the number of production sites.  \n",
    "The logic is the same for the other production types. We can then conclude that the `NaN` values are in fact **not** missing values but rather the logical consequence of the absence of the considered production.  \n",
    "Nevertheless, it would be best if those values were equal to `0`."
   ]
  },
  {
   "cell_type": "code",
   "execution_count": 9,
   "metadata": {},
   "outputs": [],
   "source": [
    "#Replace NaN values by 0\n",
    "elec_df.fillna(0., inplace=True)"
   ]
  },
  {
   "cell_type": "markdown",
   "metadata": {},
   "source": [
    "### Clarify column names and data type"
   ]
  },
  {
   "cell_type": "code",
   "execution_count": 10,
   "metadata": {},
   "outputs": [],
   "source": [
    "columns_to_rename = {\n",
    "    'energie_produite_annuelle_bio_energie_enedis_mwh': 'bio_energie_mwh',\n",
    "    'energie_produite_annuelle_hydraulique_enedis_mwh': 'hydraulique_mwh',\n",
    "    'energie_produite_annuelle_eolien_enedis_mwh': 'eolien_mwh',\n",
    "    'energie_produite_annuelle_cogeneration_enedis_mwh': \"cogeneration_mwh\",\n",
    "    'energie_produite_annuelle_photovoltaique_enedis_mwh': \"photovoltaique_mwh\",\n",
    "    'energie_produite_annuelle_autres_filieres_enedis_mwh': 'autres_filieres_mwh'\n",
    "}\n",
    "\n",
    "#Simplify column names\n",
    "elec_df.rename(columns_to_rename, axis=1, inplace=True)"
   ]
  },
  {
   "cell_type": "markdown",
   "metadata": {},
   "source": [
    "Now that we have simpler column names we should check our data types. As we saw a few code blocks earlier, some columns have mixed data types (string and numeric for example), when others have `object` data type that would be of better and easier use if the values were identified as `numeric`."
   ]
  },
  {
   "cell_type": "code",
   "execution_count": 11,
   "metadata": {},
   "outputs": [
    {
     "data": {
      "text/plain": [
       "BT > 36 kVA     846\n",
       "HTA             846\n",
       "BT <= 36 kVA    846\n",
       "Name: domaine_de_tension, dtype: int64"
      ]
     },
     "execution_count": 11,
     "metadata": {},
     "output_type": "execute_result"
    }
   ],
   "source": [
    "elec_df['domaine_de_tension'].value_counts()"
   ]
  },
  {
   "cell_type": "markdown",
   "metadata": {},
   "source": [
    "The `domaine_de_tension` column gives 2 types of information :  \n",
    "* The type of voltage (*high* voltage line or *low*)\n",
    "* For *low* voltage lines, the power level  \n",
    "\n",
    "We could extract a new feature from this column : the `volatage_line_type` and slightly adjust the residual information (> 36 kVA or <= 36 kVA) **but** this treatment would be time consuming and poorly beneficial for our analysis as the data in its current state is clear as it only has 3 possible values, which does not increase the complexity of the interpretation.  \n",
    "We could however realize later that it would be best to only distinguish `BT` from `HTA` which will be easier to do with a column dedicated to the `voltage_line_type`."
   ]
  },
  {
   "cell_type": "code",
   "execution_count": 12,
   "metadata": {},
   "outputs": [],
   "source": [
    "#Change column datatype to numeric\n",
    "elec_df['annee'] = pd.to_numeric(elec_df['annee'])\n",
    "elec_df['code_departement'] = pd.to_numeric(elec_df['code_departement'])"
   ]
  },
  {
   "cell_type": "markdown",
   "metadata": {},
   "source": [
    "## Get insights from Data"
   ]
  },
  {
   "cell_type": "markdown",
   "metadata": {},
   "source": [
    "Now that the dataset is cleaned up, let's look at the data and try to extract useful information from it"
   ]
  },
  {
   "cell_type": "code",
   "execution_count": 13,
   "metadata": {},
   "outputs": [
    {
     "data": {
      "text/plain": [
       "Haute-Marne              27\n",
       "Haute-Vienne             27\n",
       "Tarn-et-Garonne          27\n",
       "Nord                     27\n",
       "Calvados                 27\n",
       "                         ..\n",
       "Val-d'Oise               27\n",
       "Sarthe                   27\n",
       "Aube                     27\n",
       "Territoire-de-Belfort    18\n",
       "Territoire de Belfort     9\n",
       "Name: nom_departement, Length: 95, dtype: int64"
      ]
     },
     "execution_count": 13,
     "metadata": {},
     "output_type": "execute_result"
    }
   ],
   "source": [
    "elec_df['nom_departement'].value_counts()"
   ]
  },
  {
   "cell_type": "markdown",
   "metadata": {},
   "source": [
    "We know that our dataset covers the `2011-2019` period, and as there could be maximum 3 different `domaine_de_tension` it explains why the `nom_departement` count is made of multiples of 9 (9 years with as much as 3 domaine_de_tension each year). "
   ]
  },
  {
   "cell_type": "code",
   "execution_count": 14,
   "metadata": {},
   "outputs": [],
   "source": [
    "#Check elecricity national production evolution\n",
    "pattern = r'_mwh|annee'\n",
    "nat_elec = elec_df.filter(regex=pattern).groupby('annee').agg('sum').reset_index()"
   ]
  },
  {
   "cell_type": "code",
   "execution_count": 15,
   "metadata": {},
   "outputs": [
    {
     "data": {
      "image/png": "[encoded data removed]",
      "text/plain": [
       "<Figure size 864x360 with 1 Axes>"
      ]
     },
     "metadata": {
      "needs_background": "light"
     },
     "output_type": "display_data"
    }
   ],
   "source": [
    "#Adjust colormap to avoid white\n",
    "cmap = mpl.cm.RdBu(np.linspace(0,1,20))\n",
    "cmap = mpl.colors.ListedColormap(cmap[5:,:-1])\n",
    "\n",
    "#Plot electricity national production evolution\n",
    "fig = plt.figure(figsize=(12,5))\n",
    "ax1 = fig.add_subplot(1,1,1)\n",
    "nat_elec.plot.bar(x='annee', width=1, colormap=cmap, ax=ax1)\n",
    "\n",
    "#Set title and axes lables\n",
    "ax1.set_title('National Electricity Production per Year', weight='bold', fontsize=14)\n",
    "ax1.set_xlabel('')\n",
    "ax1.set_ylabel('Production - MWh', fontsize=12)\n",
    "\n",
    "#Remove top and right plot borders\n",
    "ax1.spines['right'].set_visible(False)\n",
    "ax1.spines['top'].set_visible(False)"
   ]
  },
  {
   "cell_type": "markdown",
   "metadata": {},
   "source": [
    "The plot shows us that over the last 9 years, `wind powered` production, which was already the most used mean of production, has risen the most. The other production types have more or less plateaued except for `photovoltaic` production.  \n",
    "\n",
    "We will now focus on `wind powered` productions."
   ]
  },
  {
   "cell_type": "markdown",
   "metadata": {},
   "source": [
    "### Wind Power on the Rise"
   ]
  },
  {
   "cell_type": "markdown",
   "metadata": {},
   "source": [
    "Based on the previous plot, it is clear that wind powered electrical production has and still is the main energy source since 2011."
   ]
  },
  {
   "cell_type": "code",
   "execution_count": 140,
   "metadata": {},
   "outputs": [],
   "source": [
    "nb_sites = elec_df[['nb_sites_eolien_enedis', 'annee']].groupby('annee').agg('sum').reset_index()\n",
    "nb_sites = nb_sites[(nb_sites['annee'] == 2011) | (nb_sites['annee'] == 2015) | (nb_sites['annee'] == 2019)]"
   ]
  },
  {
   "cell_type": "code",
   "execution_count": 141,
   "metadata": {},
   "outputs": [
    {
     "data": {
      "image/png": "[encoded data removed]",
      "text/plain": [
       "<Figure size 864x360 with 1 Axes>"
      ]
     },
     "metadata": {
      "needs_background": "light"
     },
     "output_type": "display_data"
    }
   ],
   "source": [
    "#Plot electricity national production evolution\n",
    "fig2 = plt.figure(figsize=(12,5))\n",
    "ax2 = fig2.add_subplot(1,1,1)\n",
    "nb_sites.plot.barh(x='annee', ax=ax2, legend=False)\n",
    "\n",
    "#Set title and axes lables\n",
    "ax2.set_title('Wind Power Production Sites - Total Number', weight='bold', fontsize=14)\n",
    "ax2.set_ylabel('')\n",
    "ax2.set_xlabel('Number of Production Sites', fontsize=12)\n",
    "\n",
    "#Remove top and right plot borders\n",
    "ax2.spines['right'].set_visible(False)\n",
    "ax2.spines['top'].set_visible(False)"
   ]
  },
  {
   "cell_type": "markdown",
   "metadata": {},
   "source": [
    "As anticipated, the rise in MWh produced by wind power energy is matched with a rise in the number of sites, but how has this production evolved at a **geographical** level ?"
   ]
  },
  {
   "cell_type": "code",
   "execution_count": 142,
   "metadata": {},
   "outputs": [],
   "source": [
    "#Columns to keep\n",
    "eol_col = [\n",
    "    'nb_sites_eolien_enedis', \n",
    "    'nom_departement',\n",
    "    'domaine_de_tension',\n",
    "    'eolien_mwh',\n",
    "    'code_departement', \n",
    "    'annee',\n",
    "    'nom_region'\n",
    "]\n",
    "\n",
    "eol_df = elec_df[eol_col]\n",
    "eol_df = eol_df.loc[eol_df['eolien_mwh'] > 0]"
   ]
  },
  {
   "cell_type": "code",
   "execution_count": 258,
   "metadata": {},
   "outputs": [],
   "source": [
    "#Regroup data by year, geography and voltage\n",
    "eol_grp = eol_df.groupby(['annee', 'nom_departement']).agg({'nb_sites_eolien_enedis':'sum', 'eolien_mwh':'sum'})"
   ]
  },
  {
   "cell_type": "code",
   "execution_count": 259,
   "metadata": {},
   "outputs": [],
   "source": [
    "#Only keep the top 5 area by number of production sites\n",
    "years = [2011,2015,2019]\n",
    "sites_top = {}\n",
    "\n",
    "for y in years:\n",
    "    sites_top[y] = eol_grp.loc[y,'nb_sites_eolien_enedis'].sort_values(ascending=False).nlargest(5)\n",
    "    \n",
    "#Doing the same for the total production\n",
    "mwh_top = {}\n",
    "\n",
    "for y in years:\n",
    "    mwh_top[y] = eol_grp.loc[y,'eolien_mwh'].sort_values(ascending=False).nlargest(5)"
   ]
  },
  {
   "cell_type": "code",
   "execution_count": 260,
   "metadata": {},
   "outputs": [],
   "source": [
    "sites_top_df = pd.DataFrame(sites_top).fillna(0).reset_index()\n",
    "mwh_top_df = pd.DataFrame(mwh_top).fillna(0).reset_index()"
   ]
  },
  {
   "cell_type": "code",
   "execution_count": 261,
   "metadata": {},
   "outputs": [
    {
     "data": {
      "text/html": [
       "<div>\n",
       "<style scoped>\n",
       "    .dataframe tbody tr th:only-of-type {\n",
       "        vertical-align: middle;\n",
       "    }\n",
       "\n",
       "    .dataframe tbody tr th {\n",
       "        vertical-align: top;\n",
       "    }\n",
       "\n",
       "    .dataframe thead th {\n",
       "        text-align: right;\n",
       "    }\n",
       "</style>\n",
       "<table border=\"1\" class=\"dataframe\">\n",
       "  <thead>\n",
       "    <tr style=\"text-align: right;\">\n",
       "      <th></th>\n",
       "      <th>index</th>\n",
       "      <th>2011</th>\n",
       "      <th>2015</th>\n",
       "      <th>2019</th>\n",
       "    </tr>\n",
       "  </thead>\n",
       "  <tbody>\n",
       "    <tr>\n",
       "      <th>0</th>\n",
       "      <td>Aisne</td>\n",
       "      <td>0.0</td>\n",
       "      <td>42.0</td>\n",
       "      <td>85.0</td>\n",
       "    </tr>\n",
       "    <tr>\n",
       "      <th>1</th>\n",
       "      <td>Aube</td>\n",
       "      <td>0.0</td>\n",
       "      <td>51.0</td>\n",
       "      <td>73.0</td>\n",
       "    </tr>\n",
       "    <tr>\n",
       "      <th>2</th>\n",
       "      <td>Côtes-d'Armor</td>\n",
       "      <td>45.0</td>\n",
       "      <td>0.0</td>\n",
       "      <td>0.0</td>\n",
       "    </tr>\n",
       "    <tr>\n",
       "      <th>3</th>\n",
       "      <td>Finistère</td>\n",
       "      <td>36.0</td>\n",
       "      <td>0.0</td>\n",
       "      <td>0.0</td>\n",
       "    </tr>\n",
       "    <tr>\n",
       "      <th>4</th>\n",
       "      <td>Marne</td>\n",
       "      <td>0.0</td>\n",
       "      <td>67.0</td>\n",
       "      <td>90.0</td>\n",
       "    </tr>\n",
       "    <tr>\n",
       "      <th>5</th>\n",
       "      <td>Meuse</td>\n",
       "      <td>34.0</td>\n",
       "      <td>0.0</td>\n",
       "      <td>0.0</td>\n",
       "    </tr>\n",
       "    <tr>\n",
       "      <th>6</th>\n",
       "      <td>Pas-de-Calais</td>\n",
       "      <td>57.0</td>\n",
       "      <td>75.0</td>\n",
       "      <td>94.0</td>\n",
       "    </tr>\n",
       "    <tr>\n",
       "      <th>7</th>\n",
       "      <td>Somme</td>\n",
       "      <td>42.0</td>\n",
       "      <td>81.0</td>\n",
       "      <td>116.0</td>\n",
       "    </tr>\n",
       "  </tbody>\n",
       "</table>\n",
       "</div>"
      ],
      "text/plain": [
       "           index  2011  2015   2019\n",
       "0          Aisne   0.0  42.0   85.0\n",
       "1           Aube   0.0  51.0   73.0\n",
       "2  Côtes-d'Armor  45.0   0.0    0.0\n",
       "3      Finistère  36.0   0.0    0.0\n",
       "4          Marne   0.0  67.0   90.0\n",
       "5          Meuse  34.0   0.0    0.0\n",
       "6  Pas-de-Calais  57.0  75.0   94.0\n",
       "7          Somme  42.0  81.0  116.0"
      ]
     },
     "execution_count": 261,
     "metadata": {},
     "output_type": "execute_result"
    }
   ],
   "source": [
    "sites_top_df"
   ]
  },
  {
   "cell_type": "code",
   "execution_count": 262,
   "metadata": {},
   "outputs": [
    {
     "data": {
      "text/html": [
       "<div>\n",
       "<style scoped>\n",
       "    .dataframe tbody tr th:only-of-type {\n",
       "        vertical-align: middle;\n",
       "    }\n",
       "\n",
       "    .dataframe tbody tr th {\n",
       "        vertical-align: top;\n",
       "    }\n",
       "\n",
       "    .dataframe thead th {\n",
       "        text-align: right;\n",
       "    }\n",
       "</style>\n",
       "<table border=\"1\" class=\"dataframe\">\n",
       "  <thead>\n",
       "    <tr style=\"text-align: right;\">\n",
       "      <th></th>\n",
       "      <th>index</th>\n",
       "      <th>2011</th>\n",
       "      <th>2015</th>\n",
       "      <th>2019</th>\n",
       "    </tr>\n",
       "  </thead>\n",
       "  <tbody>\n",
       "    <tr>\n",
       "      <th>0</th>\n",
       "      <td>Aisne</td>\n",
       "      <td>0.00</td>\n",
       "      <td>794979.49</td>\n",
       "      <td>1881361.76</td>\n",
       "    </tr>\n",
       "    <tr>\n",
       "      <th>1</th>\n",
       "      <td>Aube</td>\n",
       "      <td>0.00</td>\n",
       "      <td>1180710.33</td>\n",
       "      <td>1779659.13</td>\n",
       "    </tr>\n",
       "    <tr>\n",
       "      <th>2</th>\n",
       "      <td>Eure-et-Loir</td>\n",
       "      <td>525862.42</td>\n",
       "      <td>0.00</td>\n",
       "      <td>0.00</td>\n",
       "    </tr>\n",
       "    <tr>\n",
       "      <th>3</th>\n",
       "      <td>Marne</td>\n",
       "      <td>565576.42</td>\n",
       "      <td>1204966.29</td>\n",
       "      <td>1905259.90</td>\n",
       "    </tr>\n",
       "    <tr>\n",
       "      <th>4</th>\n",
       "      <td>Meuse</td>\n",
       "      <td>597231.51</td>\n",
       "      <td>0.00</td>\n",
       "      <td>0.00</td>\n",
       "    </tr>\n",
       "    <tr>\n",
       "      <th>5</th>\n",
       "      <td>Pas-de-Calais</td>\n",
       "      <td>834638.63</td>\n",
       "      <td>1577954.04</td>\n",
       "      <td>1920337.48</td>\n",
       "    </tr>\n",
       "    <tr>\n",
       "      <th>6</th>\n",
       "      <td>Somme</td>\n",
       "      <td>780845.82</td>\n",
       "      <td>1606730.03</td>\n",
       "      <td>2457135.12</td>\n",
       "    </tr>\n",
       "  </tbody>\n",
       "</table>\n",
       "</div>"
      ],
      "text/plain": [
       "           index       2011        2015        2019\n",
       "0          Aisne       0.00   794979.49  1881361.76\n",
       "1           Aube       0.00  1180710.33  1779659.13\n",
       "2   Eure-et-Loir  525862.42        0.00        0.00\n",
       "3          Marne  565576.42  1204966.29  1905259.90\n",
       "4          Meuse  597231.51        0.00        0.00\n",
       "5  Pas-de-Calais  834638.63  1577954.04  1920337.48\n",
       "6          Somme  780845.82  1606730.03  2457135.12"
      ]
     },
     "execution_count": 262,
     "metadata": {},
     "output_type": "execute_result"
    }
   ],
   "source": [
    "round(mwh_top_df,2)"
   ]
  },
  {
   "cell_type": "markdown",
   "metadata": {},
   "source": [
    "The leading departments in terms of number of production sites are consistent with the ones based on total production except for a fiew exceptions like `Finistère` or `Côtes-d'Armor` which although being in the top 5 by number of sites, they are not in terms of total production.   \n",
    "This could be explain by the `type of voltage` indeed, **high voltage** installations will produce much more than **low voltage** ones. `Finistère` or `Côtes-d'Armor` have many sites of **low voltage** production, placing them in the top when the corresponding production is marginal.  \n",
    "\n",
    "The same is true for `Eure-et-Loir` which is one of the most producing region in 2011 without having as many installations as the top regions. Is the production more efficient in this department ?"
   ]
  },
  {
   "cell_type": "markdown",
   "metadata": {},
   "source": [
    "## Conclusion"
   ]
  },
  {
   "cell_type": "markdown",
   "metadata": {},
   "source": [
    "This concludes our basic exploration of the dataset. The main conclusion is that `wind powered` production is the leader in terms of **quantity of electricity produced** but also in terms of **implementation rate**.  \n",
    "On other interesting thing is that the leading departments in terms of production **AND** number of sites are located in the **northen** parts of France.   \n",
    "It is interesting when we know that those departments are windy but not the windiest. Maybe some more insights could be gained by looking at factors that could have promoted the seemingly development of *wind produced* electricity in the North of the country, maybe :\n",
    "* public policies and/or fundings (as well as private)\n",
    "* landscape"
   ]
  },
  {
   "cell_type": "code",
   "execution_count": null,
   "metadata": {},
   "outputs": [],
   "source": []
  }
 ],
 "metadata": {
  "kernelspec": {
   "display_name": "Python 3",
   "language": "python",
   "name": "python3"
  },
  "language_info": {
   "codemirror_mode": {
    "name": "ipython",
    "version": 3
   },
   "file_extension": ".py",
   "mimetype": "text/x-python",
   "name": "python",
   "nbconvert_exporter": "python",
   "pygments_lexer": "ipython3",
   "version": "3.8.6"
  }
 },
 "nbformat": 4,
 "nbformat_minor": 4
}
